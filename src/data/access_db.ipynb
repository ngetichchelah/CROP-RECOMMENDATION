{
 "cells": [
  {
   "cell_type": "code",
   "execution_count": 2,
   "id": "bf6c5b21",
   "metadata": {},
   "outputs": [
    {
     "name": "stdout",
     "output_type": "stream",
     "text": [
      "c:\\Users\\Yvonne\\Desktop\\DATA SCIENCE\\FINAL CAPSTONE\\crop-recommendation-system\\src\\data\n"
     ]
    }
   ],
   "source": [
    "import os\n",
    "print(os.getcwd())"
   ]
  },
  {
   "cell_type": "code",
   "execution_count": 3,
   "id": "3603056e",
   "metadata": {},
   "outputs": [
    {
     "name": "stdout",
     "output_type": "stream",
     "text": [
      "Database path: c:\\Users\\Yvonne\\Desktop\\DATA SCIENCE\\FINAL CAPSTONE\\crop-recommendation-system\\data\\database\\crop_recommendation.db\n",
      "Exists: True\n",
      "    N   P   K  temperature   humidity        ph    rainfall label\n",
      "0  90  42  43    20.879744  82.002744  6.502985  202.935536  rice\n",
      "1  85  58  41    21.770462  80.319644  7.038096  226.655537  rice\n",
      "2  60  55  44    23.004459  82.320763  7.840207  263.964248  rice\n",
      "3  74  35  40    26.491096  80.158363  6.980401  242.864034  rice\n",
      "4  78  42  42    20.130175  81.604873  7.628473  262.717340  rice\n",
      "5  69  37  42    23.058049  83.370118  7.073454  251.055000  rice\n",
      "6  69  55  38    22.708838  82.639414  5.700806  271.324860  rice\n",
      "7  94  53  40    20.277744  82.894086  5.718627  241.974195  rice\n",
      "8  89  54  38    24.515881  83.535216  6.685346  230.446236  rice\n",
      "9  68  58  38    23.223974  83.033227  6.336254  221.209196  rice\n"
     ]
    }
   ],
   "source": [
    "import sqlite3\n",
    "import pandas as pd\n",
    "import os\n",
    "\n",
    "# Go up two directories and into data/database\n",
    "db_path = os.path.abspath(\"../../data/database/crop_recommendation.db\")\n",
    "\n",
    "print(\"Database path:\", db_path)\n",
    "print(\"Exists:\", os.path.exists(db_path))  # should be True\n",
    "\n",
    "conn = sqlite3.connect(db_path)\n",
    "\n",
    "# Read some rows to confirm\n",
    "df_crops = pd.read_sql_query(\"SELECT * FROM crops LIMIT 10;\", conn)\n",
    "print(df_crops)\n",
    "\n",
    "conn.close()\n"
   ]
  },
  {
   "cell_type": "code",
   "execution_count": 6,
   "id": "339f445e",
   "metadata": {},
   "outputs": [
    {
     "name": "stdout",
     "output_type": "stream",
     "text": [
      "    N   P   K  temperature   humidity        ph    rainfall label\n",
      "0  90  42  43    20.879744  82.002744  6.502985  202.935536  rice\n",
      "1  85  58  41    21.770462  80.319644  7.038096  226.655537  rice\n",
      "2  60  55  44    23.004459  82.320763  7.840207  263.964248  rice\n",
      "3  74  35  40    26.491096  80.158363  6.980401  242.864034  rice\n",
      "4  78  42  42    20.130175  81.604873  7.628473  262.717340  rice\n",
      "5  69  37  42    23.058049  83.370118  7.073454  251.055000  rice\n",
      "6  69  55  38    22.708838  82.639414  5.700806  271.324860  rice\n",
      "7  94  53  40    20.277744  82.894086  5.718627  241.974195  rice\n",
      "8  89  54  38    24.515881  83.535216  6.685346  230.446236  rice\n",
      "9  68  58  38    23.223974  83.033227  6.336254  221.209196  rice\n",
      "        crop   N_avg  N_min  N_max      N_std  P_avg  P_min  P_max     P_std  \\\n",
      "0     banana  104.73     80    129  11.650168  84.01     69    100  8.075452   \n",
      "1  blackgram   44.52     20     69  13.132431  69.47     54     85  7.567845   \n",
      "2   chickpea   44.59     20     69  12.641655  69.79     54     85  7.894410   \n",
      "3    coconut   26.48      0     49  12.271351  18.93      4     35  8.708311   \n",
      "4     coffee  105.70     80    129  12.827367  30.74     14     45  7.685054   \n",
      "\n",
      "   K_avg  ...  humidity_max  humidity_std    ph_avg    ph_min    ph_max  \\\n",
      "0  50.55  ...     89.227417      3.501127  6.073652  5.505394  6.684777   \n",
      "1  19.74  ...     73.459050      3.290434  7.240961  6.500145  8.008565   \n",
      "2  80.42  ...     20.968278      1.798896  7.447011  5.988993  9.134804   \n",
      "3  31.09  ...    104.980970      3.628416  6.066211  5.501580  6.664580   \n",
      "4  30.44  ...     73.445477      6.143120  6.892163  6.020947  7.717988   \n",
      "\n",
      "     ph_std  rainfall_avg  rainfall_min  rainfall_max  rainfall_std  \n",
      "0  0.288082    104.626980     90.109781    119.847970      9.362752  \n",
      "1  0.391678     67.884151     60.417903     74.915595      4.168426  \n",
      "2  0.817629     80.058977     65.113656     94.781896      7.914428  \n",
      "3  0.304414    175.686646    131.090008    225.632366     29.361325  \n",
      "4  0.433993    158.066295    115.156401    199.473564     25.598305  \n",
      "\n",
      "[5 rows x 29 columns]\n"
     ]
    }
   ],
   "source": [
    "import sqlite3\n",
    "import pandas as pd\n",
    "\n",
    "# connect to your DB\n",
    "conn = sqlite3.connect('../../data/database/crop_recommendation.db')\n",
    "\n",
    "# read full crops table\n",
    "df_crops = pd.read_sql_query(\"SELECT * FROM crops LIMIT 10\", conn)\n",
    "print(df_crops)\n",
    "\n",
    "# read summary table\n",
    "df_summary = pd.read_sql_query(\"SELECT * FROM crop_requirements\", conn)\n",
    "print(df_summary.head())\n",
    "\n",
    "conn.close()\n"
   ]
  },
  {
   "cell_type": "code",
   "execution_count": null,
   "id": "1880e9a2",
   "metadata": {},
   "outputs": [],
   "source": []
  }
 ],
 "metadata": {
  "kernelspec": {
   "display_name": "Python (crop-rec)",
   "language": "python",
   "name": "crop-rec"
  },
  "language_info": {
   "codemirror_mode": {
    "name": "ipython",
    "version": 3
   },
   "file_extension": ".py",
   "mimetype": "text/x-python",
   "name": "python",
   "nbconvert_exporter": "python",
   "pygments_lexer": "ipython3",
   "version": "3.13.7"
  }
 },
 "nbformat": 4,
 "nbformat_minor": 5
}
